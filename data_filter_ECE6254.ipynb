{
  "nbformat": 4,
  "nbformat_minor": 0,
  "metadata": {
    "colab": {
      "name": "data_filter_ECE6254.ipynb",
      "provenance": [],
      "collapsed_sections": []
    },
    "kernelspec": {
      "name": "python3",
      "display_name": "Python 3"
    },
    "language_info": {
      "name": "python"
    }
  },
  "cells": [
    {
      "cell_type": "code",
      "execution_count": 101,
      "metadata": {
        "id": "FaSklEov6D6I"
      },
      "outputs": [],
      "source": [
        "import numpy as np\n",
        "import pandas as pd\n",
        "from PIL import Image\n",
        "import requests\n",
        "import re\n",
        "import matplotlib.pyplot as plt\n",
        "from IPython.display import clear_output"
      ]
    },
    {
      "cell_type": "code",
      "source": [
        "mm,dd,yyyy,close,volume,open,high,low = (np.loadtxt(\"./TeslaData5Years_mm_dd_yyyy.txt\", \n",
        "                                                    unpack = True, skiprows=1, delimiter=\",\"))"
      ],
      "metadata": {
        "id": "46_22ukL6I5K"
      },
      "execution_count": 102,
      "outputs": []
    },
    {
      "cell_type": "code",
      "source": [
        "#\n",
        "aux = close-open\n",
        "aux[aux>0] = 1\n",
        "aux[aux<=0] = 0\n",
        "#More stuff to be added."
      ],
      "metadata": {
        "id": "bcGgDyIw66ej"
      },
      "execution_count": 103,
      "outputs": []
    },
    {
      "cell_type": "markdown",
      "source": [
        "##Manual sentimental analysis of the tweets"
      ],
      "metadata": {
        "id": "jRslFca64R6P"
      }
    },
    {
      "cell_type": "code",
      "source": [
        "filepath = \"./tweet_data.txt\"\n",
        "tweets_db = pd.read_csv(filepath, dtype=str, sep=',').fillna(0)\n",
        "df = pd.DataFrame()\n",
        "df['sentimental_value'] = np.zeros(len(tweets_db['id'].values))\n",
        "tweets_db = pd.concat([tweets_db, df], axis=1)"
      ],
      "metadata": {
        "id": "aq8xTwHGjYZ6"
      },
      "execution_count": 104,
      "outputs": []
    },
    {
      "cell_type": "code",
      "source": [
        "def show_tweet(tweet, photos):\n",
        "  \"\"\"\n",
        "  inputs: \n",
        "  photos = output of get_urls\n",
        "  tweet = tweet_db['tweet'].values[i]\n",
        "  \"\"\"\n",
        "  print(\"Tweet:\")\n",
        "  print(tweet)\n",
        "  for link in photos:\n",
        "    if (len(link)>4):\n",
        "      response = requests.get(link, stream=True)\n",
        "      img = Image.open(response.raw)\n",
        "      plt.imshow(img)\n",
        "      plt.show()\n",
        "    else:\n",
        "      pass\n",
        "  return None\n",
        "\n",
        "def sentimental_evaluation():\n",
        "  '''\n",
        "  0 = bad\n",
        "  1 = neutral\n",
        "  2 = good\n",
        "  '''\n",
        "  print(\"Insert the sentimental value for the above tweet\")\n",
        "  print(\"0 = bad, 1 = neutral, 2 = good\")\n",
        "  while True:\n",
        "    try:\n",
        "      sv = int(input())\n",
        "      if sv > 2 or sv < 0:\n",
        "        raise ValueError\n",
        "    except ValueError:\n",
        "      print(\"Input is not 0, 1, 2\")\n",
        "      continue\n",
        "    break\n",
        "  print(\"***********--------------------------------***********\")\n",
        "  return sv\n",
        "\n",
        "def get_urls(url):\n",
        "  \"\"\"Given the urls as a list of strings, will return an array with \n",
        "  the urls and some other characters that we will filter later\n",
        "  input:\n",
        "  url: tweets_db['photos'].values[i]\n",
        "  \"\"\"\n",
        "  inputstring = url\n",
        "  inputstring.replace('[', '')\n",
        "  inputstring.replace(']', '')\n",
        "  url_format = re.findall(\"([^']*)\", inputstring)\n",
        "\n",
        "  return url_format"
      ],
      "metadata": {
        "id": "eSxJ7fpnpr2K"
      },
      "execution_count": 105,
      "outputs": []
    },
    {
      "cell_type": "code",
      "source": [
        "ini_fin = [0,100] #Range of tweets to analyze\n",
        "counter = 0\n",
        "for i in np.arange(ini_fin[0], ini_fin[1]):\n",
        "  if counter == 3:\n",
        "    plt.close('all')\n",
        "    clear_output(wait=True)\n",
        "    counter = 0\n",
        "  elif i%5 == 0: #Change the number to a number that works for you.\n",
        "    aux = ini_fin[1] - ini_fin[0] - i\n",
        "    print(str(aux)+\" tweets remains to finish.\")\n",
        "    tweets_db.to_csv(r\"./updated_tweet_database.csv\")\n",
        "    print('''\n",
        "    \\\\\\\\\\\\\\\\\\\\\\\\---------------------------\\\\\\\\\\\\\\\\\\\\\n",
        "    \\\\\\\\\\\\\\\\\\\\\\\\---------------------------\\\\\\\\\\\\\\\\\\\\\n",
        "    \\\\\\\\\\\\\\\\\\\\\\\\---------------------------\\\\\\\\\\\\\\\\\\\\\n",
        "\n",
        "\n",
        "    Saving file...\n",
        "\n",
        "\n",
        "    \\\\\\\\\\\\\\\\\\\\\\\\---------------------------\\\\\\\\\\\\\\\\\\\\\n",
        "    \\\\\\\\\\\\\\\\\\\\\\\\---------------------------\\\\\\\\\\\\\\\\\\\\\n",
        "    \\\\\\\\\\\\\\\\\\\\\\\\---------------------------\\\\\\\\\\\\\\\\\\\\\n",
        "    ''')\n",
        "    df.to_csv(index=False)\n",
        "  urls = get_urls(tweets_db['photos'].values[i])\n",
        "  show_tweet(tweets_db['tweet'].values[i], urls)\n",
        "  sv = sentimental_evaluation()\n",
        "  tweets_db['sentimental_value'].values[i] = sv\n",
        "  counter += 1\n"
      ],
      "metadata": {
        "id": "bPor4ZghtVfp"
      },
      "execution_count": null,
      "outputs": []
    },
    {
      "cell_type": "code",
      "source": [
        ""
      ],
      "metadata": {
        "id": "Th9al5dQ6C2M"
      },
      "execution_count": null,
      "outputs": []
    }
  ]
}
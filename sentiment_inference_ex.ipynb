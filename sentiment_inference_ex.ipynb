{
 "cells": [
  {
   "cell_type": "code",
   "execution_count": 1,
   "metadata": {
    "collapsed": true,
    "pycharm": {
     "name": "#%%\n"
    }
   },
   "outputs": [],
   "source": [
    "from sentiment_inference.sentiment_inference_model import SentimentInferenceModel\n",
    "from sentiment_inference.sentiment_inference_options import SentimentInferenceOptions\n",
    "\n",
    "inference_options = SentimentInferenceOptions()\n",
    "sentiment_inference_model= SentimentInferenceModel(args=inference_options.args)\n"
   ]
  },
  {
   "cell_type": "code",
   "execution_count": 7,
   "outputs": [
    {
     "name": "stdout",
     "output_type": "stream",
     "text": [
      "[{'label': 'LABEL_0', 'score': 0.3604021370410919}]\n"
     ]
    }
   ],
   "source": [
    "sentiment_inference_model.get_sentiment(\"This is really good! TESLA IS THE BEST I love tesla!\")"
   ],
   "metadata": {
    "collapsed": false,
    "pycharm": {
     "name": "#%%\n"
    }
   }
  },
  {
   "cell_type": "code",
   "execution_count": 6,
   "outputs": [
    {
     "name": "stdout",
     "output_type": "stream",
     "text": [
      "[{'label': 'LABEL_0', 'score': 0.3743096888065338}]\n"
     ]
    }
   ],
   "source": [
    "sentiment_inference_model.get_sentiment(\"This is really bad! TESLA IS THE WORST I HATE tesla!\")"
   ],
   "metadata": {
    "collapsed": false,
    "pycharm": {
     "name": "#%%\n"
    }
   }
  },
  {
   "cell_type": "code",
   "execution_count": 5,
   "outputs": [
    {
     "name": "stdout",
     "output_type": "stream",
     "text": [
      "[{'label': 'LABEL_1', 'score': 0.348632276058197}]\n"
     ]
    }
   ],
   "source": [
    "sentiment_inference_model.get_sentiment(\"Tesla is a company. It makes cars.\")"
   ],
   "metadata": {
    "collapsed": false,
    "pycharm": {
     "name": "#%%\n"
    }
   }
  }
 ],
 "metadata": {
  "kernelspec": {
   "display_name": "Python 3",
   "language": "python",
   "name": "python3"
  },
  "language_info": {
   "codemirror_mode": {
    "name": "ipython",
    "version": 2
   },
   "file_extension": ".py",
   "mimetype": "text/x-python",
   "name": "python",
   "nbconvert_exporter": "python",
   "pygments_lexer": "ipython2",
   "version": "2.7.6"
  }
 },
 "nbformat": 4,
 "nbformat_minor": 0
}